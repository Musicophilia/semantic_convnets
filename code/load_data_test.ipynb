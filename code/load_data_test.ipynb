{
 "cells": [
  {
   "cell_type": "code",
   "execution_count": 5,
   "metadata": {
    "collapsed": true
   },
   "outputs": [],
   "source": [
    "import numpy as np"
   ]
  },
  {
   "cell_type": "code",
   "execution_count": 1,
   "metadata": {
    "collapsed": true
   },
   "outputs": [],
   "source": [
    "def unpickle(file):\n",
    "    import cPickle\n",
    "    fo = open(file, 'rb')\n",
    "    dict = cPickle.load(fo)\n",
    "    fo.close()\n",
    "    return dict"
   ]
  },
  {
   "cell_type": "code",
   "execution_count": 2,
   "metadata": {
    "collapsed": true
   },
   "outputs": [],
   "source": [
    "batch = unpickle(\"../data/cifar-100-python/test\")"
   ]
  },
  {
   "cell_type": "code",
   "execution_count": 3,
   "metadata": {
    "collapsed": false
   },
   "outputs": [
    {
     "name": "stdout",
     "output_type": "stream",
     "text": [
      "5\n"
     ]
    }
   ],
   "source": [
    "print len(batch.keys())"
   ]
  },
  {
   "cell_type": "code",
   "execution_count": 4,
   "metadata": {
    "collapsed": false
   },
   "outputs": [
    {
     "name": "stdout",
     "output_type": "stream",
     "text": [
      "data\n",
      "batch_label\n",
      "fine_labels\n",
      "coarse_labels\n",
      "filenames\n"
     ]
    }
   ],
   "source": [
    "for k,v in batch.iteritems():\n",
    "    print k"
   ]
  },
  {
   "cell_type": "code",
   "execution_count": 5,
   "metadata": {
    "collapsed": false
   },
   "outputs": [],
   "source": [
    "data = batch['data']\n",
    "fine_labels = batch['fine_labels']\n",
    "coarse_labels = batch['coarse_labels']\n",
    "batch_label = batch['batch_label']\n",
    "filenames = batch['filenames']"
   ]
  },
  {
   "cell_type": "code",
   "execution_count": 6,
   "metadata": {
    "collapsed": false
   },
   "outputs": [
    {
     "name": "stdout",
     "output_type": "stream",
     "text": [
      "(10000, 3072)\n"
     ]
    }
   ],
   "source": [
    "print data.shape"
   ]
  },
  {
   "cell_type": "code",
   "execution_count": 8,
   "metadata": {
    "collapsed": false
   },
   "outputs": [
    {
     "name": "stdout",
     "output_type": "stream",
     "text": [
      "testing batch 1 of 1\n"
     ]
    }
   ],
   "source": [
    "print batch_label"
   ]
  },
  {
   "cell_type": "code",
   "execution_count": 9,
   "metadata": {
    "collapsed": false
   },
   "outputs": [
    {
     "name": "stdout",
     "output_type": "stream",
     "text": [
      "['volcano_s_000012.png', 'woods_s_000412.png', 'seal_s_001803.png', 'mushroom_s_001755.png', 'adriatic_sea_s_000653.png', 'tulipa_clusiana_s_000175.png', 'camel_s_001052.png', 'mourning_cloak_s_000143.png', 'cirrostratus_s_000223.png', 'eating_apple_s_000763.png']\n"
     ]
    }
   ],
   "source": [
    "print filenames[:10]"
   ]
  },
  {
   "cell_type": "code",
   "execution_count": 11,
   "metadata": {
    "collapsed": true
   },
   "outputs": [],
   "source": [
    "batches_meta = unpickle(\"../data/cifar-100-python/meta\")"
   ]
  },
  {
   "cell_type": "code",
   "execution_count": 15,
   "metadata": {
    "collapsed": false
   },
   "outputs": [
    {
     "name": "stdout",
     "output_type": "stream",
     "text": [
      "fine_label_names ['apple', 'aquarium_fish', 'baby', 'bear', 'beaver', 'bed', 'bee', 'beetle', 'bicycle', 'bottle']\n",
      " \n",
      "coarse_label_names ['aquatic_mammals', 'fish', 'flowers', 'food_containers', 'fruit_and_vegetables', 'household_electrical_devices', 'household_furniture', 'insects', 'large_carnivores', 'large_man-made_outdoor_things']\n",
      " \n"
     ]
    }
   ],
   "source": [
    "for k,v in batches_meta.iteritems():\n",
    "    print k, v[:10]\n",
    "    print \" \""
   ]
  },
  {
   "cell_type": "code",
   "execution_count": 19,
   "metadata": {
    "collapsed": false
   },
   "outputs": [
    {
     "name": "stdout",
     "output_type": "stream",
     "text": [
      "\n"
     ]
    }
   ],
   "source": [
    "batches_meta = unpickle(\"../data/cifar-10-batches-py/batches.meta\")"
   ]
  },
  {
   "cell_type": "code",
   "execution_count": 21,
   "metadata": {
    "collapsed": false
   },
   "outputs": [
    {
     "name": "stdout",
     "output_type": "stream",
     "text": [
      " num_cases_per_batch 10000\n",
      " \n",
      "label_names ['airplane', 'automobile', 'bird', 'cat', 'deer', 'dog', 'frog', 'horse', 'ship', 'truck']\n",
      " \n",
      "num_vis 3072\n",
      " \n"
     ]
    }
   ],
   "source": [
    "for k,v in batches_meta.iteritems():\n",
    "    print k, v\n",
    "    print \" \""
   ]
  },
  {
   "cell_type": "markdown",
   "metadata": {},
   "source": [
    "Superclass\tClasses\n",
    "aquatic mammals\tbeaver, dolphin, otter, seal, whale\n",
    "fish\taquarium fish, flatfish, ray, shark, trout\n",
    "flowers\torchids, poppies, roses, sunflowers, tulips\n",
    "food containers\tbottles, bowls, cans, cups, plates\n",
    "fruit and vegetables\tapples, mushrooms, oranges, pears, sweet peppers\n",
    "household electrical devices\tclock, computer keyboard, lamp, telephone, television\n",
    "household furniture\tbed, chair, couch, table, wardrobe\n",
    "insects\tbee, beetle, butterfly, caterpillar, cockroach\n",
    "large carnivores\tbear, leopard, lion, tiger, wolf\n",
    "large man-made outdoor things\tbridge, castle, house, road, skyscraper\n",
    "large natural outdoor scenes\tcloud, forest, mountain, plain, sea\n",
    "large omnivores and herbivores\tcamel, cattle, chimpanzee, elephant, kangaroo\n",
    "medium-sized mammals\tfox, porcupine, possum, raccoon, skunk\n",
    "non-insect invertebrates\tcrab, lobster, snail, spider, worm\n",
    "people\tbaby, boy, girl, man, woman\n",
    "reptiles\tcrocodile, dinosaur, lizard, snake, turtle\n",
    "small mammals\thamster, mouse, rabbit, shrew, squirrel\n",
    "trees\tmaple, oak, palm, pine, willow\n",
    "vehicles 1\tbicycle, bus, motorcycle, pickup truck, train\n",
    "vehicles 2\tlawn-mower, rocket, streetcar, tank, tractor\n",
    "\n",
    "Yes, I know mushrooms aren't really fruit or vegetables and bears aren't really carnivores. "
   ]
  }
 ],
 "metadata": {
  "kernelspec": {
   "display_name": "Python 2",
   "language": "python",
   "name": "python2"
  },
  "language_info": {
   "codemirror_mode": {
    "name": "ipython",
    "version": 2.0
   },
   "file_extension": ".py",
   "mimetype": "text/x-python",
   "name": "python",
   "nbconvert_exporter": "python",
   "pygments_lexer": "ipython2",
   "version": "2.7.12"
  }
 },
 "nbformat": 4,
 "nbformat_minor": 0
}