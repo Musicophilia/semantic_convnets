{
 "cells": [
  {
   "cell_type": "code",
   "execution_count": 1,
   "metadata": {
    "collapsed": true
   },
   "outputs": [],
   "source": [
    "%load_ext autoreload\n",
    "%autoreload 2\n",
    "%reload_ext autoreload\n",
    "from pipeline import *\n",
    "from data_utils import *\n",
    "from utils import *\n",
    "import vis\n",
    "import numpy as np\n",
    "from sklearn.model_selection import train_test_split\n",
    "from sklearn.manifold import TSNE\n",
    "from tflearn.data_utils import to_categorical, pad_sequences\n",
    "from sklearn.metrics import accuracy_score\n",
    "import matplotlib as mpl\n",
    "import matplotlib.pyplot as plt\n",
    "from matplotlib import style\n",
    "\n",
    "%matplotlib inline\n",
    "import pandas as pd\n",
    "import seaborn as sns\n",
    "from sklearn.decomposition import PCA"
   ]
  },
  {
   "cell_type": "code",
   "execution_count": 2,
   "metadata": {
    "collapsed": false,
    "scrolled": true
   },
   "outputs": [
    {
     "name": "stdout",
     "output_type": "stream",
     "text": [
      "Loading model...\n",
      "../tensorboard_logs/cnn_rnn_end_to_end_cifar100/\n",
      "../checkpoints/cnn_rnn_end_to_end_cifar100/\n",
      "../best_checkpoints/cnn_rnn_end_to_end_cifar100/\n",
      "Checkpoint loaded.\n",
      "Model loaded.\n"
     ]
    }
   ],
   "source": [
    "# Need to load checkpoint\n",
    "checkpoint_id = \"cnn_rnn_end_to_end_cifar100\"\n",
    "model = load_model(checkpoint_id, is_training=True, checkpoint_model_id=checkpoint_id)"
   ]
  },
  {
   "cell_type": "code",
   "execution_count": 3,
   "metadata": {
    "collapsed": false
   },
   "outputs": [],
   "source": [
    "# Load dataset\n",
    "X_test, y_test, fine_or_coarse_test = load_data_pyramid(dataset='cifar100_joint_prefeaturized', return_subset='test_only')"
   ]
  },
  {
   "cell_type": "code",
   "execution_count": null,
   "metadata": {
    "collapsed": false
   },
   "outputs": [],
   "source": [
    "# Test on dataset\n",
    "pred_test_probs = np.asarray(model.predict(X_test))"
   ]
  },
  {
   "cell_type": "code",
   "execution_count": null,
   "metadata": {
    "collapsed": false
   },
   "outputs": [],
   "source": [
    "pred_test_probs.shape\n",
    "reshaped = pred_test_probs.reshape((-1, 2, 121))\n",
    "\n"
   ]
  },
  {
   "cell_type": "code",
   "execution_count": null,
   "metadata": {
    "collapsed": false
   },
   "outputs": [],
   "source": [
    "# Class predictions are in the form [A, B] (Coarse, Fine). \n",
    "def simplifyToHierarchicalFormat(class_predictions, end_token = 120):\n",
    "    fine_labels_double_copy = np.reshape(np.tile(class_predictions, (2, 1)), (2, -1, 2))\n",
    "    fine_labels_first = fine_labels_double_copy[0,:,1]\n",
    "    fine_labels_second = fine_labels_double_copy[1,:,1]\n",
    "    \n",
    "    coarse_labels_mask = fine_labels_first\n",
    "    coarse_labels_mask[coarse_labels_mask != end_token] = 0\n",
    "    coarse_labels_mask[coarse_labels_mask == end_token] = 1\n",
    "    \n",
    "    hierarchical_labels =  fine_labels_second\n",
    "    hierarchical_labels[hierarchical_labels == end_token] = 0\n",
    "    \n",
    "    return hierarchical_labels + class_predictions[:,0]*coarse_labels_mask\n",
    "    \n",
    "    \n",
    "# Make predictions\n",
    "pred_test_probs.shape\n",
    "reshaped = pred_test_probs.reshape((-1, 2, 121))\n",
    "class_predictions = np.argmax(reshaped, axis=2)\n",
    "\n",
    "print class_predictions\n",
    "print simplifyToHierarchicalFormat(class_predictions)\n"
   ]
  },
  {
   "cell_type": "code",
   "execution_count": null,
   "metadata": {
    "collapsed": true
   },
   "outputs": [],
   "source": [
    "# Print out examples\n",
    "import pickle\n",
    "p = pickle.load(open(\"coarse_to_fine_map.pickle\"))"
   ]
  },
  {
   "cell_type": "code",
   "execution_count": null,
   "metadata": {
    "collapsed": false
   },
   "outputs": [],
   "source": []
  },
  {
   "cell_type": "code",
   "execution_count": null,
   "metadata": {
    "collapsed": true
   },
   "outputs": [],
   "source": []
  }
 ],
 "metadata": {
  "kernelspec": {
   "display_name": "Python 2",
   "language": "python",
   "name": "python2"
  },
  "language_info": {
   "codemirror_mode": {
    "name": "ipython",
    "version": 2
   },
   "file_extension": ".py",
   "mimetype": "text/x-python",
   "name": "python",
   "nbconvert_exporter": "python",
   "pygments_lexer": "ipython2",
   "version": "2.7.12"
  }
 },
 "nbformat": 4,
 "nbformat_minor": 0
}
