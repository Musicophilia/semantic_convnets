{
 "cells": [
  {
   "cell_type": "markdown",
   "metadata": {},
   "source": [
    "# Results: Metrics, Visualizations, Statistics, Error Analysis\n",
    "\n",
    "Notebook to keep track of our results for all the models we experimented with. The results from this notebook are used in our final writeup."
   ]
  },
  {
   "cell_type": "code",
   "execution_count": 48,
   "metadata": {
    "collapsed": false
   },
   "outputs": [
    {
     "name": "stdout",
     "output_type": "stream",
     "text": [
      "The autoreload extension is already loaded. To reload it, use:\n",
      "  %reload_ext autoreload\n"
     ]
    }
   ],
   "source": [
    "%load_ext autoreload\n",
    "%autoreload 2\n",
    "%reload_ext autoreload\n",
    "%matplotlib inline\n",
    "from model_utils import *\n",
    "from pyramid_wrapper import *\n",
    "from data_utils import *\n",
    "from constants import *\n",
    "from utils import *\n",
    "import vis\n",
    "from tabulate import tabulate\n",
    "import numpy as np\n",
    "from sklearn.model_selection import train_test_split\n",
    "from sklearn.manifold import TSNE\n",
    "from tflearn.data_utils import to_categorical, pad_sequences\n",
    "from sklearn.metrics import accuracy_score\n",
    "import matplotlib as mpl\n",
    "import matplotlib.pyplot as plt\n",
    "from matplotlib import style\n",
    "\n",
    "\n",
    "import pandas as pd\n",
    "import seaborn as sns"
   ]
  },
  {
   "cell_type": "markdown",
   "metadata": {},
   "source": [
    "## Quantitative results"
   ]
  },
  {
   "cell_type": "markdown",
   "metadata": {},
   "source": [
    "1. Pyramid model"
   ]
  },
  {
   "cell_type": "code",
   "execution_count": 4,
   "metadata": {
    "collapsed": false
   },
   "outputs": [
    {
     "name": "stdout",
     "output_type": "stream",
     "text": [
      "models loaded\n",
      "Checkpoint loaded.\n"
     ]
    }
   ],
   "source": [
    "pyramid_model = PyramidWrapper(checkpoint_model_id=\"pyramid_cifar100\")"
   ]
  },
  {
   "cell_type": "code",
   "execution_count": 22,
   "metadata": {
    "collapsed": true
   },
   "outputs": [],
   "source": [
    "fine_label_names, coarse_label_names = load_cifar100_label_names(label_type='all')"
   ]
  },
  {
   "cell_type": "markdown",
   "metadata": {},
   "source": [
    "load the full test set and do a linear search to find the best confidence threshold. If confidence higher than threshold, model will predict fine, otherwise will predict coarse"
   ]
  },
  {
   "cell_type": "code",
   "execution_count": 12,
   "metadata": {
    "collapsed": false,
    "scrolled": true
   },
   "outputs": [
    {
     "name": "stdout",
     "output_type": "stream",
     "text": [
      "cifar100\n",
      "loading cifar batch training batch 1 of 1\n",
      "loading cifar batch testing batch 1 of 1\n",
      "mean: 121.936059453\n",
      "std dev: 67.2413055571\n",
      "Normalizing data\n",
      "Accuracy for coarse predictions: 0.4419\n",
      "Accuracy for fine predictions: 0.2435\n",
      "using confid_threshold: 65\n",
      "[ 97.85082936  98.10798168  48.62301052 ...,  99.66115355  60.58644652\n",
      "  72.99716473]\n",
      "predicted fine label 4955 times out of 10000 total samples.\n"
     ]
    }
   ],
   "source": [
    "X, Y, fine_or_coarse = load_data_pyramid(return_subset='test_only')"
   ]
  },
  {
   "cell_type": "code",
   "execution_count": 31,
   "metadata": {
    "collapsed": true
   },
   "outputs": [],
   "source": [
    "mean_pixel = 121.936059453"
   ]
  },
  {
   "cell_type": "code",
   "execution_count": 14,
   "metadata": {
    "collapsed": false,
    "scrolled": true
   },
   "outputs": [
    {
     "name": "stdout",
     "output_type": "stream",
     "text": [
      "Accuracy for coarse predictions: 0.4419\n",
      "Accuracy for fine predictions: 0.2435\n",
      "[ 97.85082936  98.10798168  48.62301052 ...,  99.66115355  60.58644652\n",
      "  72.99716473]\n",
      "predicted fine label 5466 times out of 10000 total samples.\n",
      "confid_threshold: 60, Accuracy for predict coarse OR fine: 0.287\n",
      "[ 97.85082936  98.10798168  48.62301052 ...,  99.66115355  60.58644652\n",
      "  72.99716473]\n",
      "predicted fine label 5345 times out of 10000 total samples.\n",
      "confid_threshold: 61, Accuracy for predict coarse OR fine: 0.2867\n",
      "[ 97.85082936  98.10798168  48.62301052 ...,  99.66115355  60.58644652\n",
      "  72.99716473]\n",
      "predicted fine label 5250 times out of 10000 total samples.\n",
      "confid_threshold: 62, Accuracy for predict coarse OR fine: 0.287\n",
      "[ 97.85082936  98.10798168  48.62301052 ...,  99.66115355  60.58644652\n",
      "  72.99716473]\n",
      "predicted fine label 5156 times out of 10000 total samples.\n",
      "confid_threshold: 63, Accuracy for predict coarse OR fine: 0.2875\n",
      "[ 97.85082936  98.10798168  48.62301052 ...,  99.66115355  60.58644652\n",
      "  72.99716473]\n",
      "predicted fine label 5064 times out of 10000 total samples.\n",
      "confid_threshold: 64, Accuracy for predict coarse OR fine: 0.2879\n",
      "[ 97.85082936  98.10798168  48.62301052 ...,  99.66115355  60.58644652\n",
      "  72.99716473]\n",
      "predicted fine label 4955 times out of 10000 total samples.\n",
      "confid_threshold: 65, Accuracy for predict coarse OR fine: 0.2882\n",
      "[ 97.85082936  98.10798168  48.62301052 ...,  99.66115355  60.58644652\n",
      "  72.99716473]\n",
      "predicted fine label 4868 times out of 10000 total samples.\n",
      "confid_threshold: 66, Accuracy for predict coarse OR fine: 0.2881\n",
      "[ 97.85082936  98.10798168  48.62301052 ...,  99.66115355  60.58644652\n",
      "  72.99716473]\n",
      "predicted fine label 4775 times out of 10000 total samples.\n",
      "confid_threshold: 67, Accuracy for predict coarse OR fine: 0.2883\n",
      "[ 97.85082936  98.10798168  48.62301052 ...,  99.66115355  60.58644652\n",
      "  72.99716473]\n",
      "predicted fine label 4683 times out of 10000 total samples.\n",
      "confid_threshold: 68, Accuracy for predict coarse OR fine: 0.2892\n",
      "[ 97.85082936  98.10798168  48.62301052 ...,  99.66115355  60.58644652\n",
      "  72.99716473]\n",
      "predicted fine label 4598 times out of 10000 total samples.\n",
      "confid_threshold: 69, Accuracy for predict coarse OR fine: 0.2893\n",
      "[ 97.85082936  98.10798168  48.62301052 ...,  99.66115355  60.58644652\n",
      "  72.99716473]\n",
      "predicted fine label 4492 times out of 10000 total samples.\n",
      "confid_threshold: 70, Accuracy for predict coarse OR fine: 0.2893\n",
      "[ 97.85082936  98.10798168  48.62301052 ...,  99.66115355  60.58644652\n",
      "  72.99716473]\n",
      "predicted fine label 4407 times out of 10000 total samples.\n",
      "confid_threshold: 71, Accuracy for predict coarse OR fine: 0.2886\n",
      "[ 97.85082936  98.10798168  48.62301052 ...,  99.66115355  60.58644652\n",
      "  72.99716473]\n",
      "predicted fine label 4316 times out of 10000 total samples.\n",
      "confid_threshold: 72, Accuracy for predict coarse OR fine: 0.2891\n",
      "[ 97.85082936  98.10798168  48.62301052 ...,  99.66115355  60.58644652\n",
      "  72.99716473]\n",
      "predicted fine label 4239 times out of 10000 total samples.\n",
      "confid_threshold: 73, Accuracy for predict coarse OR fine: 0.2899\n",
      "[ 97.85082936  98.10798168  48.62301052 ...,  99.66115355  60.58644652\n",
      "  72.99716473]\n",
      "predicted fine label 4169 times out of 10000 total samples.\n",
      "confid_threshold: 74, Accuracy for predict coarse OR fine: 0.2901\n",
      "[ 97.85082936  98.10798168  48.62301052 ...,  99.66115355  60.58644652\n",
      "  72.99716473]\n",
      "predicted fine label 4065 times out of 10000 total samples.\n",
      "confid_threshold: 75, Accuracy for predict coarse OR fine: 0.2896\n",
      "[ 97.85082936  98.10798168  48.62301052 ...,  99.66115355  60.58644652\n",
      "  72.99716473]\n",
      "predicted fine label 3978 times out of 10000 total samples.\n",
      "confid_threshold: 76, Accuracy for predict coarse OR fine: 0.2894\n",
      "[ 97.85082936  98.10798168  48.62301052 ...,  99.66115355  60.58644652\n",
      "  72.99716473]\n",
      "predicted fine label 3882 times out of 10000 total samples.\n",
      "confid_threshold: 77, Accuracy for predict coarse OR fine: 0.2893\n",
      "[ 97.85082936  98.10798168  48.62301052 ...,  99.66115355  60.58644652\n",
      "  72.99716473]\n",
      "predicted fine label 3795 times out of 10000 total samples.\n",
      "confid_threshold: 78, Accuracy for predict coarse OR fine: 0.2893\n",
      "[ 97.85082936  98.10798168  48.62301052 ...,  99.66115355  60.58644652\n",
      "  72.99716473]\n",
      "predicted fine label 3714 times out of 10000 total samples.\n",
      "confid_threshold: 79, Accuracy for predict coarse OR fine: 0.2894\n",
      "[ 97.85082936  98.10798168  48.62301052 ...,  99.66115355  60.58644652\n",
      "  72.99716473]\n",
      "predicted fine label 3626 times out of 10000 total samples.\n",
      "confid_threshold: 80, Accuracy for predict coarse OR fine: 0.2889\n",
      "[ 97.85082936  98.10798168  48.62301052 ...,  99.66115355  60.58644652\n",
      "  72.99716473]\n",
      "predicted fine label 3538 times out of 10000 total samples.\n",
      "confid_threshold: 81, Accuracy for predict coarse OR fine: 0.2887\n",
      "[ 97.85082936  98.10798168  48.62301052 ...,  99.66115355  60.58644652\n",
      "  72.99716473]\n",
      "predicted fine label 3462 times out of 10000 total samples.\n",
      "confid_threshold: 82, Accuracy for predict coarse OR fine: 0.2889\n",
      "[ 97.85082936  98.10798168  48.62301052 ...,  99.66115355  60.58644652\n",
      "  72.99716473]\n",
      "predicted fine label 3377 times out of 10000 total samples.\n",
      "confid_threshold: 83, Accuracy for predict coarse OR fine: 0.288\n",
      "[ 97.85082936  98.10798168  48.62301052 ...,  99.66115355  60.58644652\n",
      "  72.99716473]\n",
      "predicted fine label 3301 times out of 10000 total samples.\n",
      "confid_threshold: 84, Accuracy for predict coarse OR fine: 0.2875\n",
      "best confid_threshold: 74, Best accuracy for predict coarse OR fine: 0.2901\n"
     ]
    }
   ],
   "source": [
    "evaluate_predictions(pyramid_model, X, Y, fine_or_coarse, confid_threshold=None)"
   ]
  },
  {
   "cell_type": "code",
   "execution_count": 6,
   "metadata": {
    "collapsed": true
   },
   "outputs": [],
   "source": [
    "test_subsets = [\"seen_fine\", \"seen_coarse\", \"unseen\"] \n",
    "# the test subset names refer to whether the fine / coarse classes in those sets have been trained on before by the model."
   ]
  },
  {
   "cell_type": "markdown",
   "metadata": {},
   "source": [
    "Load the test data subsets"
   ]
  },
  {
   "cell_type": "code",
   "execution_count": 7,
   "metadata": {
    "collapsed": false
   },
   "outputs": [
    {
     "name": "stdout",
     "output_type": "stream",
     "text": [
      "cifar100\n",
      "loading cifar batch training batch 1 of 1\n",
      "loading cifar batch testing batch 1 of 1\n",
      "mean: 121.936059453\n",
      "std dev: 67.2413055571\n",
      "Normalizing data\n"
     ]
    }
   ],
   "source": [
    "X_test_A, y_test_A, fine_or_coarse_A, X_test_B, y_test_B, fine_or_coarse_B, X_test_C, y_test_C, fine_or_coarse_C = load_pyramid_test_subset(test_subset=\"all\")"
   ]
  },
  {
   "cell_type": "code",
   "execution_count": 9,
   "metadata": {
    "collapsed": false,
    "scrolled": true
   },
   "outputs": [
    {
     "name": "stdout",
     "output_type": "stream",
     "text": [
      "Accuracy for coarse predictions: 0.65075\n",
      "Accuracy for fine predictions: 0.60875\n",
      "[ 98.10798168  11.4803046   74.90355372 ...,  34.68356133  99.66115355\n",
      "  60.58644652]\n",
      "predicted fine label 3011 times out of 4000 total samples.\n",
      "confid_threshold: 50, Accuracy for predict coarse OR fine: 0.55275\n",
      "[ 98.10798168  11.4803046   74.90355372 ...,  34.68356133  99.66115355\n",
      "  60.58644652]\n",
      "predicted fine label 2983 times out of 4000 total samples.\n",
      "confid_threshold: 51, Accuracy for predict coarse OR fine: 0.54975\n",
      "[ 98.10798168  11.4803046   74.90355372 ...,  34.68356133  99.66115355\n",
      "  60.58644652]\n",
      "predicted fine label 2941 times out of 4000 total samples.\n",
      "confid_threshold: 52, Accuracy for predict coarse OR fine: 0.54625\n",
      "[ 98.10798168  11.4803046   74.90355372 ...,  34.68356133  99.66115355\n",
      "  60.58644652]\n",
      "predicted fine label 2914 times out of 4000 total samples.\n",
      "confid_threshold: 53, Accuracy for predict coarse OR fine: 0.5445\n",
      "[ 98.10798168  11.4803046   74.90355372 ...,  34.68356133  99.66115355\n",
      "  60.58644652]\n",
      "predicted fine label 2880 times out of 4000 total samples.\n",
      "confid_threshold: 54, Accuracy for predict coarse OR fine: 0.54\n",
      "[ 98.10798168  11.4803046   74.90355372 ...,  34.68356133  99.66115355\n",
      "  60.58644652]\n",
      "predicted fine label 2846 times out of 4000 total samples.\n",
      "confid_threshold: 55, Accuracy for predict coarse OR fine: 0.53725\n",
      "[ 98.10798168  11.4803046   74.90355372 ...,  34.68356133  99.66115355\n",
      "  60.58644652]\n",
      "predicted fine label 2812 times out of 4000 total samples.\n",
      "confid_threshold: 56, Accuracy for predict coarse OR fine: 0.53475\n",
      "[ 98.10798168  11.4803046   74.90355372 ...,  34.68356133  99.66115355\n",
      "  60.58644652]\n",
      "predicted fine label 2775 times out of 4000 total samples.\n",
      "confid_threshold: 57, Accuracy for predict coarse OR fine: 0.531\n",
      "[ 98.10798168  11.4803046   74.90355372 ...,  34.68356133  99.66115355\n",
      "  60.58644652]\n",
      "predicted fine label 2735 times out of 4000 total samples.\n",
      "confid_threshold: 58, Accuracy for predict coarse OR fine: 0.5265\n",
      "[ 98.10798168  11.4803046   74.90355372 ...,  34.68356133  99.66115355\n",
      "  60.58644652]\n",
      "predicted fine label 2699 times out of 4000 total samples.\n",
      "confid_threshold: 59, Accuracy for predict coarse OR fine: 0.5235\n",
      "[ 98.10798168  11.4803046   74.90355372 ...,  34.68356133  99.66115355\n",
      "  60.58644652]\n",
      "predicted fine label 2658 times out of 4000 total samples.\n",
      "confid_threshold: 60, Accuracy for predict coarse OR fine: 0.51925\n",
      "[ 98.10798168  11.4803046   74.90355372 ...,  34.68356133  99.66115355\n",
      "  60.58644652]\n",
      "predicted fine label 2609 times out of 4000 total samples.\n",
      "confid_threshold: 61, Accuracy for predict coarse OR fine: 0.51375\n",
      "[ 98.10798168  11.4803046   74.90355372 ...,  34.68356133  99.66115355\n",
      "  60.58644652]\n",
      "predicted fine label 2575 times out of 4000 total samples.\n",
      "confid_threshold: 62, Accuracy for predict coarse OR fine: 0.51075\n",
      "[ 98.10798168  11.4803046   74.90355372 ...,  34.68356133  99.66115355\n",
      "  60.58644652]\n",
      "predicted fine label 2544 times out of 4000 total samples.\n",
      "confid_threshold: 63, Accuracy for predict coarse OR fine: 0.50825\n",
      "[ 98.10798168  11.4803046   74.90355372 ...,  34.68356133  99.66115355\n",
      "  60.58644652]\n",
      "predicted fine label 2514 times out of 4000 total samples.\n",
      "confid_threshold: 64, Accuracy for predict coarse OR fine: 0.505\n",
      "[ 98.10798168  11.4803046   74.90355372 ...,  34.68356133  99.66115355\n",
      "  60.58644652]\n",
      "predicted fine label 2474 times out of 4000 total samples.\n",
      "confid_threshold: 65, Accuracy for predict coarse OR fine: 0.501\n",
      "[ 98.10798168  11.4803046   74.90355372 ...,  34.68356133  99.66115355\n",
      "  60.58644652]\n",
      "predicted fine label 2439 times out of 4000 total samples.\n",
      "confid_threshold: 66, Accuracy for predict coarse OR fine: 0.49725\n",
      "[ 98.10798168  11.4803046   74.90355372 ...,  34.68356133  99.66115355\n",
      "  60.58644652]\n",
      "predicted fine label 2412 times out of 4000 total samples.\n",
      "confid_threshold: 67, Accuracy for predict coarse OR fine: 0.494\n",
      "[ 98.10798168  11.4803046   74.90355372 ...,  34.68356133  99.66115355\n",
      "  60.58644652]\n",
      "predicted fine label 2380 times out of 4000 total samples.\n",
      "confid_threshold: 68, Accuracy for predict coarse OR fine: 0.4915\n",
      "[ 98.10798168  11.4803046   74.90355372 ...,  34.68356133  99.66115355\n",
      "  60.58644652]\n",
      "predicted fine label 2351 times out of 4000 total samples.\n",
      "confid_threshold: 69, Accuracy for predict coarse OR fine: 0.4875\n",
      "best confid_threshold: 50, Best accuracy for predict coarse OR fine: 0.55275\n"
     ]
    }
   ],
   "source": [
    "evaluate_predictions(pyramid_model, X_test_A, y_test_A, fine_or_coarse_A, confid_threshold=None)"
   ]
  },
  {
   "cell_type": "markdown",
   "metadata": {},
   "source": [
    "Test subset A: Contains all test samples belonging to the fine-grained classes the CNN part of the model has trained on before and where the model was fed both fine and coarse classes. (2 fine-granded classes per coarse class, 40% of the test set)"
   ]
  },
  {
   "cell_type": "code",
   "execution_count": 17,
   "metadata": {
    "collapsed": false
   },
   "outputs": [
    {
     "name": "stdout",
     "output_type": "stream",
     "text": [
      "Accuracy for coarse predictions: 0.65075\n",
      "Accuracy for fine predictions: 0.60875\n",
      "[ 98.10798168  11.4803046   74.90355372 ...,  34.68356133  99.66115355\n",
      "  60.58644652]\n",
      "predicted fine label 2214 times out of 4000 total samples.\n",
      "confid_threshold: 74, Accuracy for predict coarse OR fine: 0.4695\n"
     ]
    }
   ],
   "source": [
    "best_confid_threshold = 74\n",
    "evaluate_predictions(pyramid_model, X_test_A, y_test_A, fine_or_coarse_A, confid_threshold=best_confid_threshold)"
   ]
  },
  {
   "cell_type": "markdown",
   "metadata": {},
   "source": [
    "Test subset B: Contains all test samples belong to the 40 fine classes, where the model has only seen their coarse label, but not their fine label. (2 fine-granded classes per coarse class, 40% of the test set)"
   ]
  },
  {
   "cell_type": "code",
   "execution_count": 18,
   "metadata": {
    "collapsed": false
   },
   "outputs": [
    {
     "name": "stdout",
     "output_type": "stream",
     "text": [
      "Accuracy for coarse predictions: 0.2915\n",
      "Accuracy for fine predictions: 0.0\n",
      "[ 97.85082936  48.62301052  45.8288461  ...,  95.22877932  89.86353278\n",
      "  72.99716473]\n",
      "predicted fine label 1232 times out of 4000 total samples.\n",
      "confid_threshold: 74, Accuracy for predict coarse OR fine: 0.16475\n"
     ]
    }
   ],
   "source": [
    "evaluate_predictions(pyramid_model, X_test_B, y_test_B, fine_or_coarse_B, confid_threshold=best_confid_threshold)"
   ]
  },
  {
   "cell_type": "markdown",
   "metadata": {},
   "source": [
    "Test subset C: Contains all test samples belong to the 20 fine classes, the model has never seen before. (where seen refers to the labels.) (1 fine-granded class per coarse class, 20% of the test set)"
   ]
  },
  {
   "cell_type": "code",
   "execution_count": 20,
   "metadata": {
    "collapsed": false,
    "scrolled": true
   },
   "outputs": [
    {
     "name": "stdout",
     "output_type": "stream",
     "text": [
      "Accuracy for coarse predictions: 0.325\n",
      "Accuracy for fine predictions: 0.0\n",
      "[ 98.34507704  85.47298908  16.52573198 ...,  95.54353952  54.34818864\n",
      "  67.40775704]\n",
      "predicted fine label 723 times out of 2000 total samples.\n",
      "confid_threshold: 74, Accuracy for predict coarse OR fine: 0.182\n"
     ]
    }
   ],
   "source": [
    "evaluate_predictions(pyramid_model, X_test_C, y_test_C, fine_or_coarse_C, confid_threshold=best_confid_threshold)"
   ]
  },
  {
   "cell_type": "code",
   "execution_count": 56,
   "metadata": {
    "collapsed": false
   },
   "outputs": [],
   "source": [
    "def denormalize_image(img,mean=121):\n",
    "    img = (img + mean)\n",
    "    low, high = img.min(), img.max()\n",
    "    img = 255.0 * (img - low) / (high - low)\n",
    "    return img.astype(np.uint8)"
   ]
  },
  {
   "cell_type": "code",
   "execution_count": 61,
   "metadata": {
    "collapsed": true
   },
   "outputs": [],
   "source": [
    "def examine_images_and_predictions(model, X, y):\n",
    "    fine_pred_probs, coarse_pred_probs = pyramid_model.predict_both_fine_and_coarse(X)\n",
    "\n",
    "    coarse_pred_classes = np.argmax(coarse_pred_probs, axis=1)\n",
    "    fine_pred_classes = np.argmax(fine_pred_probs, axis=1)\n",
    "\n",
    "    y_fine, y_coarse = y[:,0], y[:,1]\n",
    "    \n",
    "    for i in xrange(50):\n",
    "        img = X[i]\n",
    "        img = denormalize_image(img, mean=MEAN_PIXEL_CIFAR)\n",
    "        plt.figure(num=None, figsize=(1, 1), dpi=32, facecolor='w', edgecolor='k')\n",
    "        plt.imshow(img.astype(np.uint8), interpolation='nearest')\n",
    "        plt.axis('off')\n",
    "        plt.show()\n",
    "        c_pred_label = coarse_label_names[coarse_pred_classes[i]]\n",
    "        c_true_label = coarse_label_names[y_coarse[i]]\n",
    "        f_pred_label = fine_label_names[fine_pred_classes[i]]\n",
    "        f_true_label = fine_label_names[y_fine[i]]\n",
    "\n",
    "        labels = np.array([['coarse', c_pred_label, c_true_label],['fine', f_pred_label, f_true_label]])\n",
    "    #     pd.DataFrame(labels, ['coarse', 'fine'], ['predicted', 'true'])\n",
    "        print tabulate(labels, headers=['', 'Predicted Label', 'True Label'], tablefmt='orgtbl')\n",
    "    #     print (\"coarse: \\npredicted: {} \\ttrue: {}\\nfine: \\npredicted: {} \\ttrue: {}\".format(c_pred_label, c_true_label, f_pred_label, f_true_label))\n",
    "\n"
   ]
  },
  {
   "cell_type": "code",
   "execution_count": 65,
   "metadata": {
    "collapsed": false,
    "scrolled": true
   },
   "outputs": [
    {
     "data": {
      "image/png": "[encoded data removed]",
      "text/plain": [
       "<matplotlib.figure.Figure at 0x11d371d50>"
      ]
     },
     "metadata": {},
     "output_type": "display_data"
    },
    {
     "name": "stdout",
     "output_type": "stream",
     "text": [
      "|        | Predicted Label              | True Label                   |\n",
      "|--------+------------------------------+------------------------------|\n",
      "| coarse | large_natural_outdoor_scenes | large_natural_outdoor_scenes |\n",
      "| fine   | forest                       | forest                       |\n"
     ]
    },
    {
     "data": {
      "image/png": "[encoded data removed]",
      "text/plain": [
       "<matplotlib.figure.Figure at 0x11756cd50>"
      ]
     },
     "metadata": {},
     "output_type": "display_data"
    },
    {
     "name": "stdout",
     "output_type": "stream",
     "text": [
      "|        | Predicted Label          | True Label           |\n",
      "|--------+--------------------------+----------------------|\n",
      "| coarse | non-insect_invertebrates | fruit_and_vegetables |\n",
      "| fine   | camel                    | mushroom             |\n"
     ]
    },
    {
     "data": {
      "image/png": "[encoded data removed]",
      "text/plain": [
       "<matplotlib.figure.Figure at 0x1166c4d10>"
      ]
     },
     "metadata": {},
     "output_type": "display_data"
    },
    {
     "name": "stdout",
     "output_type": "stream",
     "text": [
      "|        | Predicted Label                | True Label                     |\n",
      "|--------+--------------------------------+--------------------------------|\n",
      "| coarse | large_omnivores_and_herbivores | large_omnivores_and_herbivores |\n",
      "| fine   | camel                          | camel                          |\n"
     ]
    },
    {
     "data": {
      "image/png": "[encoded data removed]",
      "text/plain": [
       "<matplotlib.figure.Figure at 0x116484d10>"
      ]
     },
     "metadata": {},
     "output_type": "display_data"
    },
    {
     "name": "stdout",
     "output_type": "stream",
     "text": [
      "|        | Predicted Label              | True Label                   |\n",
      "|--------+------------------------------+------------------------------|\n",
      "| coarse | large_natural_outdoor_scenes | large_natural_outdoor_scenes |\n",
      "| fine   | cloud                        | cloud                        |\n"
     ]
    },
    {
     "data": {
      "image/png": "[encoded data removed]",
      "text/plain": [
       "<matplotlib.figure.Figure at 0x1159168d0>"
      ]
     },
     "metadata": {},
     "output_type": "display_data"
    },
    {
     "name": "stdout",
     "output_type": "stream",
     "text": [
      "|        | Predicted Label      | True Label           |\n",
      "|--------+----------------------+----------------------|\n",
      "| coarse | fruit_and_vegetables | fruit_and_vegetables |\n",
      "| fine   | apple                | apple                |\n"
     ]
    },
    {
     "data": {
      "image/png": "[encoded data removed]",
      "text/plain": [
       "<matplotlib.figure.Figure at 0x11a670c50>"
      ]
     },
     "metadata": {},
     "output_type": "display_data"
    },
    {
     "name": "stdout",
     "output_type": "stream",
     "text": [
      "|        | Predicted Label   | True Label   |\n",
      "|--------+-------------------+--------------|\n",
      "| coarse | vehicles_2        | vehicles_2   |\n",
      "| fine   | rocket            | rocket       |\n"
     ]
    },
    {
     "data": {
      "image/png": "[encoded data removed]",
      "text/plain": [
       "<matplotlib.figure.Figure at 0x116400990>"
      ]
     },
     "metadata": {},
     "output_type": "display_data"
    },
    {
     "name": "stdout",
     "output_type": "stream",
     "text": [
      "|        | Predicted Label   | True Label   |\n",
      "|--------+-------------------+--------------|\n",
      "| coarse | trees             | reptiles     |\n",
      "| fine   | maple_tree        | dinosaur     |\n"
     ]
    },
    {
     "data": {
      "image/png": "[encoded data removed]",
      "text/plain": [
       "<matplotlib.figure.Figure at 0x116a28dd0>"
      ]
     },
     "metadata": {},
     "output_type": "display_data"
    },
    {
     "name": "stdout",
     "output_type": "stream",
     "text": [
      "|        | Predicted Label              | True Label                   |\n",
      "|--------+------------------------------+------------------------------|\n",
      "| coarse | household_electrical_devices | household_electrical_devices |\n",
      "| fine   | keyboard                     | keyboard                     |\n"
     ]
    },
    {
     "data": {
      "image/png": "[encoded data removed]",
      "text/plain": [
       "<matplotlib.figure.Figure at 0x11d462b50>"
      ]
     },
     "metadata": {},
     "output_type": "display_data"
    },
    {
     "name": "stdout",
     "output_type": "stream",
     "text": [
      "|        | Predicted Label   | True Label   |\n",
      "|--------+-------------------+--------------|\n",
      "| coarse | vehicles_1        | vehicles_1   |\n",
      "| fine   | bicycle           | bicycle      |\n"
     ]
    },
    {
     "data": {
      "image/png": "[encoded data removed]",
      "text/plain": [
       "<matplotlib.figure.Figure at 0x11d397d90>"
      ]
     },
     "metadata": {},
     "output_type": "display_data"
    },
    {
     "name": "stdout",
     "output_type": "stream",
     "text": [
      "|        | Predicted Label   | True Label   |\n",
      "|--------+-------------------+--------------|\n",
      "| coarse | food_containers   | vehicles_1   |\n",
      "| fine   | boy               | bicycle      |\n"
     ]
    }
   ],
   "source": [
    "examine_images_and_predictions(pyramid_model, X_test_A, y_test_A)"
   ]
  },
  {
   "cell_type": "code",
   "execution_count": 63,
   "metadata": {
    "collapsed": false
   },
   "outputs": [
    {
     "data": {
      "image/png": "[encoded data removed]",
      "text/plain": [
       "<matplotlib.figure.Figure at 0x11c72fb90>"
      ]
     },
     "metadata": {},
     "output_type": "display_data"
    },
    {
     "name": "stdout",
     "output_type": "stream",
     "text": [
      "|        | Predicted Label   | True Label                   |\n",
      "|--------+-------------------+------------------------------|\n",
      "| coarse | aquatic_mammals   | large_natural_outdoor_scenes |\n",
      "| fine   | dolphin           | mountain                     |\n"
     ]
    },
    {
     "data": {
      "image/png": "[encoded data removed]",
      "text/plain": [
       "<matplotlib.figure.Figure at 0x11a648c10>"
      ]
     },
     "metadata": {},
     "output_type": "display_data"
    },
    {
     "name": "stdout",
     "output_type": "stream",
     "text": [
      "|        | Predicted Label                | True Label      |\n",
      "|--------+--------------------------------+-----------------|\n",
      "| coarse | large_omnivores_and_herbivores | aquatic_mammals |\n",
      "| fine   | crocodile                      | seal            |\n"
     ]
    },
    {
     "data": {
      "image/png": "[encoded data removed]",
      "text/plain": [
       "<matplotlib.figure.Figure at 0x11a6a69d0>"
      ]
     },
     "metadata": {},
     "output_type": "display_data"
    },
    {
     "name": "stdout",
     "output_type": "stream",
     "text": [
      "|        | Predicted Label   | True Label   |\n",
      "|--------+-------------------+--------------|\n",
      "| coarse | small_mammals     | insects      |\n",
      "| fine   | beetle            | butterfly    |\n"
     ]
    },
    {
     "data": {
      "image/png": "[encoded data removed]",
      "text/plain": [
       "<matplotlib.figure.Figure at 0x1175768d0>"
      ]
     },
     "metadata": {},
     "output_type": "display_data"
    },
    {
     "name": "stdout",
     "output_type": "stream",
     "text": [
      "|        | Predicted Label   | True Label   |\n",
      "|--------+-------------------+--------------|\n",
      "| coarse | vehicles_1        | vehicles_2   |\n",
      "| fine   | bus               | streetcar    |\n"
     ]
    },
    {
     "data": {
      "image/png": "[encoded data removed]",
      "text/plain": [
       "<matplotlib.figure.Figure at 0x11d24bed0>"
      ]
     },
     "metadata": {},
     "output_type": "display_data"
    },
    {
     "name": "stdout",
     "output_type": "stream",
     "text": [
      "|        | Predicted Label   | True Label                   |\n",
      "|--------+-------------------+------------------------------|\n",
      "| coarse | food_containers   | household_electrical_devices |\n",
      "| fine   | chair             | lamp                         |\n"
     ]
    },
    {
     "data": {
      "image/png": "[encoded data removed]",
      "text/plain": [
       "<matplotlib.figure.Figure at 0x11d118610>"
      ]
     },
     "metadata": {},
     "output_type": "display_data"
    },
    {
     "name": "stdout",
     "output_type": "stream",
     "text": [
      "|        | Predicted Label                | True Label       |\n",
      "|--------+--------------------------------+------------------|\n",
      "| coarse | large_omnivores_and_herbivores | large_carnivores |\n",
      "| fine   | crab                           | lion             |\n"
     ]
    },
    {
     "data": {
      "image/png": "[encoded data removed]",
      "text/plain": [
       "<matplotlib.figure.Figure at 0x11d291c10>"
      ]
     },
     "metadata": {},
     "output_type": "display_data"
    },
    {
     "name": "stdout",
     "output_type": "stream",
     "text": [
      "|        | Predicted Label   | True Label   |\n",
      "|--------+-------------------+--------------|\n",
      "| coarse | flowers           | flowers      |\n",
      "| fine   | orchid            | rose         |\n"
     ]
    },
    {
     "data": {
      "image/png": "[encoded data removed]",
      "text/plain": [
       "<matplotlib.figure.Figure at 0x11a751690>"
      ]
     },
     "metadata": {},
     "output_type": "display_data"
    },
    {
     "name": "stdout",
     "output_type": "stream",
     "text": [
      "|        | Predicted Label   | True Label           |\n",
      "|--------+-------------------+----------------------|\n",
      "| coarse | flowers           | fruit_and_vegetables |\n",
      "| fine   | apple             | orange               |\n"
     ]
    },
    {
     "data": {
      "image/png": "[encoded data removed]",
      "text/plain": [
       "<matplotlib.figure.Figure at 0x1175a9990>"
      ]
     },
     "metadata": {},
     "output_type": "display_data"
    },
    {
     "name": "stdout",
     "output_type": "stream",
     "text": [
      "|        | Predicted Label   | True Label   |\n",
      "|--------+-------------------+--------------|\n",
      "| coarse | food_containers   | flowers      |\n",
      "| fine   | hamster           | rose         |\n"
     ]
    },
    {
     "data": {
      "image/png": "[encoded data removed]",
      "text/plain": [
       "<matplotlib.figure.Figure at 0x11d061b90>"
      ]
     },
     "metadata": {},
     "output_type": "display_data"
    },
    {
     "name": "stdout",
     "output_type": "stream",
     "text": [
      "|        | Predicted Label               | True Label                   |\n",
      "|--------+-------------------------------+------------------------------|\n",
      "| coarse | large_man-made_outdoor_things | large_natural_outdoor_scenes |\n",
      "| fine   | keyboard                      | mountain                     |\n"
     ]
    }
   ],
   "source": [
    "examine_images_and_predictions(pyramid_model, X_test_B, y_test_B)"
   ]
  },
  {
   "cell_type": "code",
   "execution_count": 64,
   "metadata": {
    "collapsed": false
   },
   "outputs": [
    {
     "data": {
      "image/png": "[encoded data removed]",
      "text/plain": [
       "<matplotlib.figure.Figure at 0x11d371650>"
      ]
     },
     "metadata": {},
     "output_type": "display_data"
    },
    {
     "name": "stdout",
     "output_type": "stream",
     "text": [
      "|        | Predicted Label              | True Label                   |\n",
      "|--------+------------------------------+------------------------------|\n",
      "| coarse | large_natural_outdoor_scenes | large_natural_outdoor_scenes |\n",
      "| fine   | cloud                        | sea                          |\n"
     ]
    },
    {
     "data": {
      "image/png": "[encoded data removed]",
      "text/plain": [
       "<matplotlib.figure.Figure at 0x1175b7310>"
      ]
     },
     "metadata": {},
     "output_type": "display_data"
    },
    {
     "name": "stdout",
     "output_type": "stream",
     "text": [
      "|        | Predicted Label   | True Label   |\n",
      "|--------+-------------------+--------------|\n",
      "| coarse | insects           | flowers      |\n",
      "| fine   | bee               | tulip        |\n"
     ]
    },
    {
     "data": {
      "image/png": "[encoded data removed]",
      "text/plain": [
       "<matplotlib.figure.Figure at 0x11a592790>"
      ]
     },
     "metadata": {},
     "output_type": "display_data"
    },
    {
     "name": "stdout",
     "output_type": "stream",
     "text": [
      "|        | Predicted Label              | True Label                   |\n",
      "|--------+------------------------------+------------------------------|\n",
      "| coarse | household_electrical_devices | large_natural_outdoor_scenes |\n",
      "| fine   | keyboard                     | sea                          |\n"
     ]
    },
    {
     "data": {
      "image/png": "[encoded data removed]",
      "text/plain": [
       "<matplotlib.figure.Figure at 0x1175c18d0>"
      ]
     },
     "metadata": {},
     "output_type": "display_data"
    },
    {
     "name": "stdout",
     "output_type": "stream",
     "text": [
      "|        | Predicted Label   | True Label     |\n",
      "|--------+-------------------+----------------|\n",
      "| coarse | reptiles          | medium_mammals |\n",
      "| fine   | crocodile         | skunk          |\n"
     ]
    },
    {
     "data": {
      "image/png": "[encoded data removed]",
      "text/plain": [
       "<matplotlib.figure.Figure at 0x11536fc50>"
      ]
     },
     "metadata": {},
     "output_type": "display_data"
    },
    {
     "name": "stdout",
     "output_type": "stream",
     "text": [
      "|        | Predicted Label   | True Label   |\n",
      "|--------+-------------------+--------------|\n",
      "| coarse | flowers           | flowers      |\n",
      "| fine   | apple             | tulip        |\n"
     ]
    },
    {
     "data": {
      "image/png": "[encoded data removed]",
      "text/plain": [
       "<matplotlib.figure.Figure at 0x11c7e6810>"
      ]
     },
     "metadata": {},
     "output_type": "display_data"
    },
    {
     "name": "stdout",
     "output_type": "stream",
     "text": [
      "|        | Predicted Label   | True Label       |\n",
      "|--------+-------------------+------------------|\n",
      "| coarse | small_mammals     | large_carnivores |\n",
      "| fine   | mouse             | wolf             |\n"
     ]
    },
    {
     "data": {
      "image/png": "[encoded data removed]",
      "text/plain": [
       "<matplotlib.figure.Figure at 0x11a4eff90>"
      ]
     },
     "metadata": {},
     "output_type": "display_data"
    },
    {
     "name": "stdout",
     "output_type": "stream",
     "text": [
      "|        | Predicted Label   | True Label     |\n",
      "|--------+-------------------+----------------|\n",
      "| coarse | fish              | medium_mammals |\n",
      "| fine   | camel             | skunk          |\n"
     ]
    },
    {
     "data": {
      "image/png": "[encoded data removed]",
      "text/plain": [
       "<matplotlib.figure.Figure at 0x1148ac450>"
      ]
     },
     "metadata": {},
     "output_type": "display_data"
    },
    {
     "name": "stdout",
     "output_type": "stream",
     "text": [
      "|        | Predicted Label              | True Label      |\n",
      "|--------+------------------------------+-----------------|\n",
      "| coarse | household_electrical_devices | food_containers |\n",
      "| fine   | clock                        | plate           |\n"
     ]
    },
    {
     "data": {
      "image/png": "[encoded data removed]",
      "text/plain": [
       "<matplotlib.figure.Figure at 0x116454d50>"
      ]
     },
     "metadata": {},
     "output_type": "display_data"
    },
    {
     "name": "stdout",
     "output_type": "stream",
     "text": [
      "|        | Predicted Label              | True Label   |\n",
      "|--------+------------------------------+--------------|\n",
      "| coarse | household_electrical_devices | reptiles     |\n",
      "| fine   | bowl                         | turtle       |\n"
     ]
    },
    {
     "data": {
      "image/png": "[encoded data removed]",
      "text/plain": [
       "<matplotlib.figure.Figure at 0x11732e850>"
      ]
     },
     "metadata": {},
     "output_type": "display_data"
    },
    {
     "name": "stdout",
     "output_type": "stream",
     "text": [
      "|        | Predicted Label   | True Label   |\n",
      "|--------+-------------------+--------------|\n",
      "| coarse | food_containers   | insects      |\n",
      "| fine   | flatfish          | cockroach    |\n"
     ]
    }
   ],
   "source": [
    "examine_images_and_predictions(pyramid_model, X_test_C, y_test_C)"
   ]
  },
  {
   "cell_type": "code",
   "execution_count": null,
   "metadata": {
    "collapsed": true
   },
   "outputs": [],
   "source": []
  }
 ],
 "metadata": {
  "kernelspec": {
   "display_name": "Python 2",
   "language": "python",
   "name": "python2"
  },
  "language_info": {
   "codemirror_mode": {
    "name": "ipython",
    "version": 2
   },
   "file_extension": ".py",
   "mimetype": "text/x-python",
   "name": "python",
   "nbconvert_exporter": "python",
   "pygments_lexer": "ipython2",
   "version": "2.7.12"
  }
 },
 "nbformat": 4,
 "nbformat_minor": 1
}
